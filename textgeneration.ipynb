{
 "cells": [
  {
   "cell_type": "code",
   "execution_count": 1,
   "id": "80b3ed26",
   "metadata": {},
   "outputs": [
    {
     "name": "stderr",
     "output_type": "stream",
     "text": [
      "[nltk_data] Downloading package stopwords to C:\\Users\\GOWTHAM-\n",
      "[nltk_data]     PC\\AppData\\Roaming\\nltk_data...\n",
      "[nltk_data]   Package stopwords is already up-to-date!\n"
     ]
    }
   ],
   "source": [
    "import numpy\n",
    "import sys\n",
    "import nltk\n",
    "nltk.download('stopwords')\n",
    "from nltk.tokenize import RegexpTokenizer\n",
    "from nltk.corpus import stopwords\n",
    "from keras.models import Sequential\n",
    "from keras.layers import Dense, Dropout, LSTM\n",
    "from keras.utils import np_utils\n",
    "from keras.callbacks import ModelCheckpoint\n"
   ]
  },
  {
   "cell_type": "code",
   "execution_count": 16,
   "id": "e9cb39c9",
   "metadata": {},
   "outputs": [],
   "source": [
    "# load data\n",
    "file = open(\"C:\\\\Users\\\\GOWTHAM-PC\\\\textgen\\\\Pandya.txt\").read()"
   ]
  },
  {
   "cell_type": "code",
   "execution_count": 17,
   "id": "fb4f4dd3",
   "metadata": {},
   "outputs": [],
   "source": [
    "# tokenization\n",
    "#standardization\n",
    "def tokenize_words(input):\n",
    "    input = input.lower()\n",
    "    tokenizer = RegexpTokenizer(r'\\w+')\n",
    "    tokens = tokenizer.tokenize(input)\n",
    "    filtered = filter(lambda token: token not in stopwords.words('english'), tokens)\n",
    "    return \"\".join(filtered)\n",
    "\n",
    "processed_inputs = tokenize_words(file)\n"
   ]
  },
  {
   "cell_type": "code",
   "execution_count": 18,
   "id": "5e7c7475",
   "metadata": {},
   "outputs": [],
   "source": [
    "#char to num\n",
    "chars = sorted(list(set(processed_inputs)))\n",
    "char_to_num = dict((c,i) for i, c in enumerate(chars))"
   ]
  },
  {
   "cell_type": "code",
   "execution_count": 19,
   "id": "e44e33bb",
   "metadata": {},
   "outputs": [
    {
     "name": "stdout",
     "output_type": "stream",
     "text": [
      "Total no of characters :  455\n",
      "Total vocab :  25\n"
     ]
    }
   ],
   "source": [
    "#check if words to char or char to num has worked\n",
    "input_len = len(processed_inputs)\n",
    "vocab_len = len(chars)\n",
    "print(\"Total no of characters : \", input_len)\n",
    "print(\"Total vocab : \", vocab_len)"
   ]
  },
  {
   "cell_type": "code",
   "execution_count": 20,
   "id": "79d6ead9",
   "metadata": {},
   "outputs": [],
   "source": [
    "#seq length\n",
    "seq_length = 100\n",
    "x_data = []\n",
    "y_data = []"
   ]
  },
  {
   "cell_type": "code",
   "execution_count": 21,
   "id": "81ad3845",
   "metadata": {},
   "outputs": [
    {
     "name": "stdout",
     "output_type": "stream",
     "text": [
      "Total patterns :  355\n"
     ]
    }
   ],
   "source": [
    "# loop through the sequence\n",
    "for i in range(0, input_len - seq_length):\n",
    "    in_seq = processed_inputs[i:i +seq_length]\n",
    "    out_seq = processed_inputs[i +seq_length]\n",
    "    x_data.append([char_to_num[char] for char in in_seq])\n",
    "    y_data.append(char_to_num[out_seq])\n",
    "    \n",
    "n_patterns = len(x_data)\n",
    "print(\"Total patterns : \", n_patterns)"
   ]
  },
  {
   "cell_type": "code",
   "execution_count": 22,
   "id": "9bd62554",
   "metadata": {},
   "outputs": [],
   "source": [
    "# convert input sequence to np array and so on\n",
    "x = numpy.reshape(x_data, (n_patterns, seq_length, 1))\n",
    "x = x/float(vocab_len) "
   ]
  },
  {
   "cell_type": "code",
   "execution_count": 23,
   "id": "9821ab30",
   "metadata": {},
   "outputs": [],
   "source": [
    "#one-hot encoding\n",
    "y = np_utils.to_categorical(y_data)"
   ]
  },
  {
   "cell_type": "code",
   "execution_count": 24,
   "id": "5e2273e1",
   "metadata": {},
   "outputs": [],
   "source": [
    "# creating sequential model\n",
    "model = Sequential()\n",
    "model.add(LSTM(256, input_shape=(x.shape[1], x.shape[2]), return_sequences=True))\n",
    "model.add(Dropout(0.2))\n",
    "model.add(LSTM(256, return_sequences=True))\n",
    "model.add(Dropout(0.2))\n",
    "model.add(LSTM(128))\n",
    "model.add(Dropout(0.2))\n",
    "model.add(Dense(y.shape[1], activation='softmax'))\n"
   ]
  },
  {
   "cell_type": "code",
   "execution_count": 25,
   "id": "3bcd14d5",
   "metadata": {},
   "outputs": [],
   "source": [
    "# compile model\n",
    "model.compile(loss='categorical_crossentropy', optimizer='adam')"
   ]
  },
  {
   "cell_type": "code",
   "execution_count": 26,
   "id": "d7d6c0e1",
   "metadata": {},
   "outputs": [],
   "source": [
    "# saving weights\n",
    "filepath = \"model_weights_saved.hdf5\"\n",
    "checkpoint = ModelCheckpoint(filepath, monitor='loss', verbose = 1, save_best_only=True, mode='min')\n",
    "desired_callbacks = [checkpoint]"
   ]
  },
  {
   "cell_type": "code",
   "execution_count": 27,
   "id": "169b8345",
   "metadata": {},
   "outputs": [
    {
     "name": "stdout",
     "output_type": "stream",
     "text": [
      "Epoch 1/7\n",
      "2/2 [==============================] - ETA: 0s - loss: 3.1671\n",
      "Epoch 00001: loss improved from inf to 3.16714, saving model to model_weights_saved.hdf5\n",
      "2/2 [==============================] - 36s 18s/step - loss: 3.1671\n",
      "Epoch 2/7\n",
      "2/2 [==============================] - ETA: 0s - loss: 3.0569\n",
      "Epoch 00002: loss improved from 3.16714 to 3.05687, saving model to model_weights_saved.hdf5\n",
      "2/2 [==============================] - 27s 13s/step - loss: 3.0569\n",
      "Epoch 3/7\n",
      "2/2 [==============================] - ETA: 0s - loss: 3.0016\n",
      "Epoch 00003: loss improved from 3.05687 to 3.00159, saving model to model_weights_saved.hdf5\n",
      "2/2 [==============================] - 23s 12s/step - loss: 3.0016\n",
      "Epoch 4/7\n",
      "2/2 [==============================] - ETA: 0s - loss: 2.9129\n",
      "Epoch 00004: loss improved from 3.00159 to 2.91292, saving model to model_weights_saved.hdf5\n",
      "2/2 [==============================] - 19s 10s/step - loss: 2.9129\n",
      "Epoch 5/7\n",
      "2/2 [==============================] - ETA: 0s - loss: 2.9273\n",
      "Epoch 00005: loss did not improve from 2.91292\n",
      "2/2 [==============================] - 14s 7s/step - loss: 2.9273\n",
      "Epoch 6/7\n",
      "2/2 [==============================] - ETA: 0s - loss: 2.9255\n",
      "Epoch 00006: loss did not improve from 2.91292\n",
      "2/2 [==============================] - 14s 7s/step - loss: 2.9255\n",
      "Epoch 7/7\n",
      "2/2 [==============================] - ETA: 0s - loss: 2.8777\n",
      "Epoch 00007: loss improved from 2.91292 to 2.87771, saving model to model_weights_saved.hdf5\n",
      "2/2 [==============================] - 14s 7s/step - loss: 2.8777\n"
     ]
    },
    {
     "data": {
      "text/plain": [
       "<tensorflow.python.keras.callbacks.History at 0x92be1b4b50>"
      ]
     },
     "execution_count": 27,
     "metadata": {},
     "output_type": "execute_result"
    }
   ],
   "source": [
    "# fit model and train\n",
    "model.fit(x,y, epochs=7, batch_size=256, callbacks=desired_callbacks)"
   ]
  },
  {
   "cell_type": "code",
   "execution_count": 28,
   "id": "ed5e9082",
   "metadata": {},
   "outputs": [],
   "source": [
    "# recompile model with the saved weights\n",
    "filename = \"model_weights_saved.hdf5\"\n",
    "model.load_weights(filename)\n",
    "model.compile(loss='categorical_crossentropy', optimizer='adam')"
   ]
  },
  {
   "cell_type": "code",
   "execution_count": 29,
   "id": "d426306a",
   "metadata": {},
   "outputs": [],
   "source": [
    "#output of the model back into characters\n",
    "num_to_char = dict((i,c) for i,c in enumerate(chars))"
   ]
  },
  {
   "cell_type": "code",
   "execution_count": 30,
   "id": "84789a6b",
   "metadata": {},
   "outputs": [
    {
     "name": "stdout",
     "output_type": "stream",
     "text": [
      "Random Seed:\n",
      "\" nastysouthindiaonethreefamoustamillineagestwocholacherarulersthreetamildynastiesreferredthreecrowned \"\n"
     ]
    }
   ],
   "source": [
    "# random seed to help generate\n",
    "start = numpy.random.randint(0, len(x_data) -1)\n",
    "pattern = x_data[start]\n",
    "print(\"Random Seed:\")\n",
    "print(\"\\\"\", ''.join([num_to_char[value] for value in pattern]),\"\\\"\")"
   ]
  },
  {
   "cell_type": "code",
   "execution_count": 31,
   "id": "ae414d4f",
   "metadata": {},
   "outputs": [
    {
     "name": "stdout",
     "output_type": "stream",
     "text": [
      "aaaaaaaaaaaaaaaaaaaaaaaaa"
     ]
    }
   ],
   "source": [
    "#generate the text\n",
    "for i in range(25):\n",
    "    x = numpy.reshape(pattern,(1,len(pattern), 1))\n",
    "    x = x/float(vocab_len) \n",
    "    prediction = model.predict(x, verbose=0)\n",
    "    index = numpy.argmax(prediction)\n",
    "    result = num_to_char[index]\n",
    "    seq_in = [num_to_char[value] for value in pattern]\n",
    "    sys.stdout.write(result)\n",
    "    pattern.append(index)\n",
    "    pattern = pattern[1:len(pattern)]"
   ]
  },
  {
   "cell_type": "code",
   "execution_count": null,
   "id": "127284df",
   "metadata": {},
   "outputs": [],
   "source": []
  }
 ],
 "metadata": {
  "kernelspec": {
   "display_name": "Python 3",
   "language": "python",
   "name": "python3"
  },
  "language_info": {
   "codemirror_mode": {
    "name": "ipython",
    "version": 3
   },
   "file_extension": ".py",
   "mimetype": "text/x-python",
   "name": "python",
   "nbconvert_exporter": "python",
   "pygments_lexer": "ipython3",
   "version": "3.8.8"
  }
 },
 "nbformat": 4,
 "nbformat_minor": 5
}
